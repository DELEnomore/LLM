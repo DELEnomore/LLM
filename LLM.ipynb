{
  "cells": [
    {
      "cell_type": "code",
      "source": [
        "!pip install datasets"
      ],
      "metadata": {
        "colab": {
          "base_uri": "https://localhost:8080/"
        },
        "id": "elvLzytTDk_E",
        "outputId": "c62e8afb-3c9b-4a13-b70e-807d1382909f"
      },
      "id": "elvLzytTDk_E",
      "execution_count": 1,
      "outputs": [
        {
          "output_type": "stream",
          "name": "stdout",
          "text": [
            "Collecting datasets\n",
            "  Downloading datasets-3.3.2-py3-none-any.whl.metadata (19 kB)\n",
            "Requirement already satisfied: filelock in /usr/local/lib/python3.11/dist-packages (from datasets) (3.17.0)\n",
            "Requirement already satisfied: numpy>=1.17 in /usr/local/lib/python3.11/dist-packages (from datasets) (1.26.4)\n",
            "Requirement already satisfied: pyarrow>=15.0.0 in /usr/local/lib/python3.11/dist-packages (from datasets) (18.1.0)\n",
            "Collecting dill<0.3.9,>=0.3.0 (from datasets)\n",
            "  Downloading dill-0.3.8-py3-none-any.whl.metadata (10 kB)\n",
            "Requirement already satisfied: pandas in /usr/local/lib/python3.11/dist-packages (from datasets) (2.2.2)\n",
            "Requirement already satisfied: requests>=2.32.2 in /usr/local/lib/python3.11/dist-packages (from datasets) (2.32.3)\n",
            "Requirement already satisfied: tqdm>=4.66.3 in /usr/local/lib/python3.11/dist-packages (from datasets) (4.67.1)\n",
            "Collecting xxhash (from datasets)\n",
            "  Downloading xxhash-3.5.0-cp311-cp311-manylinux_2_17_x86_64.manylinux2014_x86_64.whl.metadata (12 kB)\n",
            "Collecting multiprocess<0.70.17 (from datasets)\n",
            "  Downloading multiprocess-0.70.16-py311-none-any.whl.metadata (7.2 kB)\n",
            "Requirement already satisfied: fsspec<=2024.12.0,>=2023.1.0 in /usr/local/lib/python3.11/dist-packages (from fsspec[http]<=2024.12.0,>=2023.1.0->datasets) (2024.10.0)\n",
            "Requirement already satisfied: aiohttp in /usr/local/lib/python3.11/dist-packages (from datasets) (3.11.13)\n",
            "Requirement already satisfied: huggingface-hub>=0.24.0 in /usr/local/lib/python3.11/dist-packages (from datasets) (0.28.1)\n",
            "Requirement already satisfied: packaging in /usr/local/lib/python3.11/dist-packages (from datasets) (24.2)\n",
            "Requirement already satisfied: pyyaml>=5.1 in /usr/local/lib/python3.11/dist-packages (from datasets) (6.0.2)\n",
            "Requirement already satisfied: aiohappyeyeballs>=2.3.0 in /usr/local/lib/python3.11/dist-packages (from aiohttp->datasets) (2.4.6)\n",
            "Requirement already satisfied: aiosignal>=1.1.2 in /usr/local/lib/python3.11/dist-packages (from aiohttp->datasets) (1.3.2)\n",
            "Requirement already satisfied: attrs>=17.3.0 in /usr/local/lib/python3.11/dist-packages (from aiohttp->datasets) (25.1.0)\n",
            "Requirement already satisfied: frozenlist>=1.1.1 in /usr/local/lib/python3.11/dist-packages (from aiohttp->datasets) (1.5.0)\n",
            "Requirement already satisfied: multidict<7.0,>=4.5 in /usr/local/lib/python3.11/dist-packages (from aiohttp->datasets) (6.1.0)\n",
            "Requirement already satisfied: propcache>=0.2.0 in /usr/local/lib/python3.11/dist-packages (from aiohttp->datasets) (0.3.0)\n",
            "Requirement already satisfied: yarl<2.0,>=1.17.0 in /usr/local/lib/python3.11/dist-packages (from aiohttp->datasets) (1.18.3)\n",
            "Requirement already satisfied: typing-extensions>=3.7.4.3 in /usr/local/lib/python3.11/dist-packages (from huggingface-hub>=0.24.0->datasets) (4.12.2)\n",
            "Requirement already satisfied: charset-normalizer<4,>=2 in /usr/local/lib/python3.11/dist-packages (from requests>=2.32.2->datasets) (3.4.1)\n",
            "Requirement already satisfied: idna<4,>=2.5 in /usr/local/lib/python3.11/dist-packages (from requests>=2.32.2->datasets) (3.10)\n",
            "Requirement already satisfied: urllib3<3,>=1.21.1 in /usr/local/lib/python3.11/dist-packages (from requests>=2.32.2->datasets) (2.3.0)\n",
            "Requirement already satisfied: certifi>=2017.4.17 in /usr/local/lib/python3.11/dist-packages (from requests>=2.32.2->datasets) (2025.1.31)\n",
            "Requirement already satisfied: python-dateutil>=2.8.2 in /usr/local/lib/python3.11/dist-packages (from pandas->datasets) (2.8.2)\n",
            "Requirement already satisfied: pytz>=2020.1 in /usr/local/lib/python3.11/dist-packages (from pandas->datasets) (2025.1)\n",
            "Requirement already satisfied: tzdata>=2022.7 in /usr/local/lib/python3.11/dist-packages (from pandas->datasets) (2025.1)\n",
            "Requirement already satisfied: six>=1.5 in /usr/local/lib/python3.11/dist-packages (from python-dateutil>=2.8.2->pandas->datasets) (1.17.0)\n",
            "Downloading datasets-3.3.2-py3-none-any.whl (485 kB)\n",
            "\u001b[2K   \u001b[90m━━━━━━━━━━━━━━━━━━━━━━━━━━━━━━━━━━━━━━━━\u001b[0m \u001b[32m485.4/485.4 kB\u001b[0m \u001b[31m27.6 MB/s\u001b[0m eta \u001b[36m0:00:00\u001b[0m\n",
            "\u001b[?25hDownloading dill-0.3.8-py3-none-any.whl (116 kB)\n",
            "\u001b[2K   \u001b[90m━━━━━━━━━━━━━━━━━━━━━━━━━━━━━━━━━━━━━━━━\u001b[0m \u001b[32m116.3/116.3 kB\u001b[0m \u001b[31m11.4 MB/s\u001b[0m eta \u001b[36m0:00:00\u001b[0m\n",
            "\u001b[?25hDownloading multiprocess-0.70.16-py311-none-any.whl (143 kB)\n",
            "\u001b[2K   \u001b[90m━━━━━━━━━━━━━━━━━━━━━━━━━━━━━━━━━━━━━━━━\u001b[0m \u001b[32m143.5/143.5 kB\u001b[0m \u001b[31m11.4 MB/s\u001b[0m eta \u001b[36m0:00:00\u001b[0m\n",
            "\u001b[?25hDownloading xxhash-3.5.0-cp311-cp311-manylinux_2_17_x86_64.manylinux2014_x86_64.whl (194 kB)\n",
            "\u001b[2K   \u001b[90m━━━━━━━━━━━━━━━━━━━━━━━━━━━━━━━━━━━━━━━━\u001b[0m \u001b[32m194.8/194.8 kB\u001b[0m \u001b[31m18.1 MB/s\u001b[0m eta \u001b[36m0:00:00\u001b[0m\n",
            "\u001b[?25hInstalling collected packages: xxhash, dill, multiprocess, datasets\n",
            "Successfully installed datasets-3.3.2 dill-0.3.8 multiprocess-0.70.16 xxhash-3.5.0\n"
          ]
        }
      ]
    },
    {
      "cell_type": "code",
      "source": [
        "import os.path\n",
        "from abc import abstractmethod\n",
        "\n",
        "import torch\n",
        "from datasets import load_dataset\n",
        "from peft import LoraConfig, get_peft_model\n",
        "from transformers import Trainer, TrainingArguments, AutoModelForCausalLM, AutoTokenizer\n",
        "import os\n",
        "from google.colab import drive\n"
      ],
      "metadata": {
        "id": "WCunIz3FECZ6"
      },
      "id": "WCunIz3FECZ6",
      "execution_count": 2,
      "outputs": []
    },
    {
      "cell_type": "code",
      "source": [
        "os.environ[\"WANDB_DISABLED\"] = \"true\""
      ],
      "metadata": {
        "id": "dsrcse8nEE7z"
      },
      "id": "dsrcse8nEE7z",
      "execution_count": 3,
      "outputs": []
    },
    {
      "cell_type": "code",
      "source": [
        "drive.mount('/content/drive')"
      ],
      "metadata": {
        "id": "ddVSb8m1J-W-",
        "outputId": "17c52a35-8759-4edf-816a-eb8b7b561196",
        "colab": {
          "base_uri": "https://localhost:8080/"
        }
      },
      "id": "ddVSb8m1J-W-",
      "execution_count": 4,
      "outputs": [
        {
          "output_type": "stream",
          "name": "stdout",
          "text": [
            "Mounted at /content/drive\n"
          ]
        }
      ]
    },
    {
      "cell_type": "code",
      "source": [
        "GOOGLE_DRIVE_WORKSPACE_DIR = 'drive/MyDrive/colab_workspace/LLM'\n",
        "_CACHE_DIR = GOOGLE_DRIVE_WORKSPACE_DIR + '/cache'\n",
        "MODEL_CACHE_DIR = _CACHE_DIR + '/model'\n",
        "DATASET_CACHE_DIR = _CACHE_DIR + '/dataset'\n",
        "\n",
        "MODEL_NAME = \"deepseek-ai/DeepSeek-R1-Distill-Qwen-1.5B\"\n",
        "MODEL_CHECKPOINT_DIR = GOOGLE_DRIVE_WORKSPACE_DIR + '/' + MODEL_NAME\n",
        "MODEL_OUTPUT_DIR = MODEL_CHECKPOINT_DIR + '/best_model'"
      ],
      "metadata": {
        "id": "PB9KQnzBELfY"
      },
      "id": "PB9KQnzBELfY",
      "execution_count": 5,
      "outputs": []
    },
    {
      "cell_type": "code",
      "source": [],
      "metadata": {
        "id": "5FNQpV17H1JK"
      },
      "id": "5FNQpV17H1JK",
      "execution_count": 5,
      "outputs": []
    },
    {
      "cell_type": "code",
      "source": [
        "class DatasetInterface:\n",
        "    PATH = ''\n",
        "\n",
        "    NAME = None\n",
        "\n",
        "    def __init__(self, tokenizer):\n",
        "        self.data = load_dataset(self.PATH, self.NAME, cache_dir=DATASET_CACHE_DIR)\n",
        "        self.tokenizer = tokenizer\n",
        "\n",
        "    def get_data(self):\n",
        "        return self.data\n",
        "\n",
        "    @abstractmethod\n",
        "    def tokenize_function(self, tokenize):\n",
        "        pass\n",
        "\n",
        "    @abstractmethod\n",
        "    def build_prompt(input) -> str:\n",
        "        pass"
      ],
      "metadata": {
        "id": "oPSyMViHEMhd"
      },
      "id": "oPSyMViHEMhd",
      "execution_count": 6,
      "outputs": []
    },
    {
      "cell_type": "code",
      "source": [
        "class RuozhiDataset(DatasetInterface):\n",
        "\n",
        "    PATH = 'hfl/ruozhiba_gpt4'\n",
        "\n",
        "    def tokenize_function(self, example):\n",
        "        # 将instruction和output合并为一个输入\n",
        "        input = example['instruction']\n",
        "        target = example['output']\n",
        "        # 将 'instruction' 和 'output' 作为序列对进行编码\n",
        "        model_input = self.tokenizer(input, padding=\"max_length\", truncation=True, max_length=512)\n",
        "        # 对目标输出进行编码\n",
        "        labels = self.tokenizer(target, padding=\"max_length\", truncation=True, max_length=512)\n",
        "        labels[\"input_ids\"] = [[-100 if token == self.tokenizer.pad_token_id else token for token in token_list] for\n",
        "                               token_list in\n",
        "                               labels[\"input_ids\"]]\n",
        "        # 将标签放入模型输入字典中\n",
        "        model_input[\"labels\"] = labels[\"input_ids\"]\n",
        "        return model_input\n",
        "\n",
        "    def build_prompt(input) -> str:\n",
        "        pass"
      ],
      "metadata": {
        "id": "EeUKGH6GENtE"
      },
      "id": "EeUKGH6GENtE",
      "execution_count": 7,
      "outputs": []
    },
    {
      "cell_type": "code",
      "source": [
        "class TestDataset(DatasetInterface):\n",
        "\n",
        "    PATH = 'FuYuwen117/test'\n",
        "\n",
        "    def tokenize_function(self, example):\n",
        "        # 将instruction和output合并为一个输入\n",
        "        input = example['input']\n",
        "        target = example['output']\n",
        "        # 将 'instruction' 和 'output' 作为序列对进行编码\n",
        "        model_input = self.tokenizer(input, padding=\"max_length\", truncation=True, max_length=10)\n",
        "        # 对目标输出进行编码\n",
        "        labels = self.tokenizer(target, padding=\"max_length\", truncation=True, max_length=10)\n",
        "        labels[\"input_ids\"] = [[-100 if token == self.tokenizer.pad_token_id else token for token in token_list] for\n",
        "                               token_list in\n",
        "                               labels[\"input_ids\"]]\n",
        "        # 将标签放入模型输入字典中\n",
        "        model_input[\"labels\"] = labels[\"input_ids\"]\n",
        "        return model_input\n",
        "\n",
        "    def build_prompt(input) -> str:\n",
        "        pass"
      ],
      "metadata": {
        "id": "x2biuph0EO4d"
      },
      "id": "x2biuph0EO4d",
      "execution_count": 8,
      "outputs": []
    },
    {
      "cell_type": "code",
      "source": [
        "\n",
        "tokenizer = AutoTokenizer.from_pretrained(pretrained_model_name_or_path=MODEL_NAME, cache_dir=MODEL_CACHE_DIR)\n",
        "tokenizer.pad_token = tokenizer.eos_token\n",
        "\n",
        "dataset_instance = TestDataset(tokenizer)\n",
        "data = dataset_instance.get_data()\n",
        "\n",
        "tokenized_dataset = data.map(dataset_instance.tokenize_function, num_proc=4, batched=True)\n",
        "splited_dataset = tokenized_dataset['train'].train_test_split(test_size=0.2)\n",
        "train_dataset = splited_dataset['train']\n",
        "val_dataset = splited_dataset['test']\n",
        "# 检查并添加填充标记\n",
        "\n",
        "model = AutoModelForCausalLM.from_pretrained(\n",
        "    MODEL_NAME,\n",
        "    torch_dtype=torch.float16,  # 混合精度\n",
        "    device_map=\"auto\",  # 自动分配到 GPU\n",
        "    cache_dir=MODEL_CACHE_DIR\n",
        ")\n",
        "\n",
        "lora_config = LoraConfig(\n",
        "    r=8,  # LoRA 的秩\n",
        "    lora_alpha=32,  # LoRA 的缩放因子\n",
        "    lora_dropout=0.05,  # Dropout 概率\n",
        "    bias=\"none\",  # LoRA bias 设置\n",
        "    task_type=\"CAUSAL_LM\",  # 任务类型：自回归文本生成\n",
        "    target_modules=[\"q_proj\", \"k_proj\", \"v_proj\", \"o_proj\"],\n",
        "    # 如果需要根据具体模型结构，调整 target_modules\n",
        ")\n",
        "\n",
        "peft_model = get_peft_model(model, lora_config)\n",
        "peft_model.print_trainable_parameters()  # 查看可训练参数量\n",
        "\n",
        "training_args = TrainingArguments(\n",
        "    output_dir=MODEL_CHECKPOINT_DIR,\n",
        "    overwrite_output_dir=True,\n",
        "    per_device_train_batch_size=2,\n",
        "    per_device_eval_batch_size=2,\n",
        "    gradient_accumulation_steps=8,\n",
        "    num_train_epochs=10,\n",
        "    learning_rate=2e-4,\n",
        "    fp16=True,\n",
        "    logging_steps=50,\n",
        "    evaluation_strategy=\"steps\",\n",
        "    eval_steps=200,\n",
        "    save_strategy=\"steps\",\n",
        "    save_steps=200,\n",
        "    report_to=\"none\",\n",
        ")\n",
        "\n",
        "trainer = Trainer(\n",
        "    model=peft_model,\n",
        "    args=training_args,\n",
        "    train_dataset=train_dataset,\n",
        "    eval_dataset=val_dataset,\n",
        "    tokenizer=tokenizer,\n",
        ")\n",
        "\n",
        "\n",
        "trainer.train()\n",
        "trainer.save_model(MODEL_OUTPUT_DIR)\n"
      ],
      "metadata": {
        "id": "omZpsTgFEQOb"
      },
      "id": "omZpsTgFEQOb",
      "execution_count": 9,
      "outputs": []
    }
  ],
  "metadata": {
    "colab": {
      "provenance": [],
      "machine_shape": "hm",
      "gpuType": "A100"
    },
    "language_info": {
      "name": "python"
    },
    "kernelspec": {
      "name": "python3",
      "display_name": "Python 3"
    },
    "accelerator": "GPU"
  },
  "nbformat": 4,
  "nbformat_minor": 5
}
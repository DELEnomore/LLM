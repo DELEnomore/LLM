{
  "cells": [
    {
      "cell_type": "markdown",
      "metadata": {
        "id": "view-in-github",
        "colab_type": "text"
      },
      "source": [
        "<a href=\"https://colab.research.google.com/github/DELEnomore/LLM/blob/colab/LLM.ipynb\" target=\"_parent\"><img src=\"https://colab.research.google.com/assets/colab-badge.svg\" alt=\"Open In Colab\"/></a>"
      ]
    },
    {
      "cell_type": "code",
      "source": [
        "!pip install datasets"
      ],
      "metadata": {
        "id": "elvLzytTDk_E"
      },
      "id": "elvLzytTDk_E",
      "execution_count": null,
      "outputs": []
    },
    {
      "cell_type": "code",
      "source": [
        "import os.path\n",
        "from abc import abstractmethod\n",
        "import torch\n",
        "from datasets import load_dataset\n",
        "from peft import LoraConfig, get_peft_model, PeftModel\n",
        "from transformers import Trainer, TrainingArguments, AutoModelForCausalLM, AutoTokenizer, pipeline\n",
        "import os\n",
        "from google.colab import drive, userdata\n",
        "import logging\n",
        "from huggingface_hub import login"
      ],
      "metadata": {
        "id": "WCunIz3FECZ6"
      },
      "id": "WCunIz3FECZ6",
      "execution_count": null,
      "outputs": []
    },
    {
      "cell_type": "code",
      "source": [
        "os.environ[\"WANDB_DISABLED\"] = \"true\""
      ],
      "metadata": {
        "id": "dsrcse8nEE7z"
      },
      "id": "dsrcse8nEE7z",
      "execution_count": null,
      "outputs": []
    },
    {
      "cell_type": "code",
      "source": [
        "drive.mount('/content/drive')"
      ],
      "metadata": {
        "id": "ddVSb8m1J-W-",
        "outputId": "631a8130-c712-4ba9-8a94-ab68408b46fe",
        "colab": {
          "base_uri": "https://localhost:8080/"
        }
      },
      "id": "ddVSb8m1J-W-",
      "execution_count": null,
      "outputs": [
        {
          "output_type": "stream",
          "name": "stdout",
          "text": [
            "Mounted at /content/drive\n"
          ]
        }
      ]
    },
    {
      "cell_type": "code",
      "source": [
        "GOOGLE_DRIVE_WORKSPACE_DIR = 'drive/MyDrive/colab_workspace/LLM'\n",
        "_CACHE_DIR = GOOGLE_DRIVE_WORKSPACE_DIR + '/cache'\n",
        "MODEL_CACHE_DIR = _CACHE_DIR + '/model'\n",
        "DATASET_CACHE_DIR = _CACHE_DIR + '/dataset'\n",
        "# MODEL_NAME = \"meta-llama/Llama-3.2-1B\"\n",
        "MODEL_NAME = \"meta-llama/Llama-3.2-3B-Instruct\"\n",
        "# MODEL_NAME = \"Qwen/Qwen2.5-1.5B\"\n",
        "MODEL_CHECKPOINT_DIR = GOOGLE_DRIVE_WORKSPACE_DIR + '/model_output/' + MODEL_NAME\n",
        "MODEL_OUTPUT_DIR = MODEL_CHECKPOINT_DIR + '/best_model'\n",
        "\n",
        "# secret saved by Google Colab\n",
        "login(token=userdata.get('hugging_face_token'))"
      ],
      "metadata": {
        "id": "PB9KQnzBELfY"
      },
      "id": "PB9KQnzBELfY",
      "execution_count": null,
      "outputs": []
    },
    {
      "cell_type": "code",
      "source": [
        "def format_chatml(input, output):\n",
        "    messages = []\n",
        "    if input:\n",
        "        messages.append({\"role\": \"user\", \"content\": input})\n",
        "    if output:\n",
        "        messages.append({\"role\": \"assistant\", \"content\": output})\n",
        "    return messages"
      ],
      "metadata": {
        "id": "nCafszlofDMZ"
      },
      "id": "nCafszlofDMZ",
      "execution_count": null,
      "outputs": []
    },
    {
      "cell_type": "code",
      "source": [
        "def batch_format_chatml(batch_input, batch_output):\n",
        "    batch_message = []\n",
        "    for input, output in zip(batch_input, batch_output):\n",
        "        batch_message.append(format_chatml(input, output))\n",
        "\n",
        "    return batch_message"
      ],
      "metadata": {
        "id": "xkvAz-Og1yI5"
      },
      "id": "xkvAz-Og1yI5",
      "execution_count": null,
      "outputs": []
    },
    {
      "cell_type": "code",
      "source": [
        "class DatasetInterface:\n",
        "    PATH = ''\n",
        "\n",
        "    NAME = None\n",
        "\n",
        "    def __init__(self, tokenizer):\n",
        "        self.data = load_dataset(self.PATH, self.NAME, cache_dir=DATASET_CACHE_DIR)\n",
        "        self.tokenizer = tokenizer\n",
        "\n",
        "    def get_data(self):\n",
        "        return self.data\n",
        "\n",
        "    @abstractmethod\n",
        "    def _get_input_and_output(self, example):\n",
        "        pass\n",
        "\n",
        "    def tokenize_function_4_auto_ml(self, example):\n",
        "        input, output = self._get_input_and_output(example)\n",
        "        chatml = batch_format_chatml(input, output)\n",
        "        formated_input = tokenizer.apply_chat_template(\n",
        "            chatml,\n",
        "            tokenize=False,\n",
        "        )\n",
        "        model_input = tokenizer(formated_input, padding=\"max_length\", truncation=True, max_length=128)\n",
        "        model_input[\"labels\"] = model_input[\"input_ids\"].copy()\n",
        "        return model_input"
      ],
      "metadata": {
        "id": "oPSyMViHEMhd"
      },
      "id": "oPSyMViHEMhd",
      "execution_count": null,
      "outputs": []
    },
    {
      "cell_type": "code",
      "source": [
        "class TestDataset(DatasetInterface):\n",
        "\n",
        "    PATH = 'FuYuwen1/test'\n",
        "\n",
        "    def _get_input_and_output(self, example):\n",
        "        input = example['input']\n",
        "        target = example['output']\n",
        "        return input, target\n"
      ],
      "metadata": {
        "id": "x2biuph0EO4d"
      },
      "id": "x2biuph0EO4d",
      "execution_count": null,
      "outputs": []
    },
    {
      "cell_type": "code",
      "source": [
        "class HuatuoDataset(DatasetInterface):\n",
        "\n",
        "    PATH = \"FreedomIntelligence/HuatuoGPT2-Pretraining-Instruction\"\n",
        "\n",
        "    NAME = \"Meidcal_Encyclopedia_cn\"\n",
        "\n",
        "    def tokenize_function_4_auto_ml(self, examples):\n",
        "        inputs = []\n",
        "        labels = []\n",
        "        # print(f'examples: {examples.keys()}')\n",
        "        for conversation in examples['conversations']:\n",
        "            # 假设每个对话的第一部分是 human 提问，第二部分是 gpt 的回答\n",
        "            dialog_input = \"\"\n",
        "            dialog_output = \"\"\n",
        "\n",
        "            # 遍历每个对话，区分 human 和 gpt\n",
        "            for turn in conversation:\n",
        "                if turn[\"from\"] == \"human\":\n",
        "                    dialog_input = turn[\"value\"]  # 用户的提问作为输入\n",
        "                elif turn[\"from\"] == \"gpt\":\n",
        "                    dialog_output = turn[\"value\"]  # GPT 的回答作为标签\n",
        "\n",
        "            # 将输入和标签添加到列表中\n",
        "            inputs.append(dialog_input.strip())  # 用户提问\n",
        "            labels.append(dialog_output.strip())  # GPT 回答\n",
        "\n",
        "        # 使用分词器将输入和输出数据转换为模型输入\n",
        "        model_inputs = self.tokenizer(inputs, padding='max_length', max_length=512, truncation=True)\n",
        "        labels_tokenized = self.tokenizer(labels, padding='max_length', max_length=512, truncation=True)\n",
        "\n",
        "        # 将标签添加到模型输入\n",
        "        model_inputs[\"labels\"] = labels_tokenized[\"input_ids\"]\n",
        "\n",
        "        return model_inputs"
      ],
      "metadata": {
        "id": "6B91uX-LxQIe"
      },
      "id": "6B91uX-LxQIe",
      "execution_count": null,
      "outputs": []
    },
    {
      "cell_type": "code",
      "source": [
        "\n",
        "tokenizer = AutoTokenizer.from_pretrained(pretrained_model_name_or_path=MODEL_NAME, cache_dir=MODEL_CACHE_DIR)\n",
        "tokenizer.pad_token = tokenizer.eos_token\n",
        "\n",
        "dataset_instance = HuatuoDataset(tokenizer)\n",
        "data = dataset_instance.get_data()\n",
        "\n",
        "tokenized_dataset = data.map(dataset_instance.tokenize_function_4_auto_ml, num_proc=4, batched=True)\n",
        "splited_dataset = tokenized_dataset['train'].train_test_split(test_size=0.2)\n",
        "train_dataset = splited_dataset['train']\n",
        "val_dataset = splited_dataset['test']\n",
        "# 检查并添加填充标记\n",
        "\n",
        "model = AutoModelForCausalLM.from_pretrained(\n",
        "    MODEL_NAME,\n",
        "    torch_dtype=torch.float16,  # 混合精度\n",
        "    device_map=\"auto\",  # 自动分配到 GPU\n",
        "    cache_dir=MODEL_CACHE_DIR\n",
        ")\n",
        "\n",
        "\n"
      ],
      "metadata": {
        "id": "omZpsTgFEQOb"
      },
      "id": "omZpsTgFEQOb",
      "execution_count": null,
      "outputs": []
    },
    {
      "cell_type": "code",
      "source": [
        "lora_config = LoraConfig(\n",
        "    r=8,  # LoRA 的秩\n",
        "    lora_alpha=32,  # LoRA 的缩放因子\n",
        "    lora_dropout=0.05,  # Dropout 概率\n",
        "    bias=\"none\",  # LoRA bias 设置\n",
        "    task_type=\"CAUSAL_LM\",  # 任务类型：自回归文本生成\n",
        "    target_modules=[\"q_proj\", \"k_proj\", \"v_proj\", \"o_proj\"],\n",
        "    # 如果需要根据具体模型结构，调整 target_modules\n",
        ")\n",
        "\n",
        "peft_model = get_peft_model(model, lora_config)\n",
        "peft_model.print_trainable_parameters()  # 查看可训练参数量\n",
        "\n",
        "training_args = TrainingArguments(\n",
        "    output_dir=MODEL_CHECKPOINT_DIR,\n",
        "    overwrite_output_dir=True,\n",
        "    per_device_train_batch_size=2,\n",
        "    per_device_eval_batch_size=2,\n",
        "    gradient_accumulation_steps=8,\n",
        "    num_train_epochs=10000,\n",
        "    learning_rate=2e-4,\n",
        "    fp16=True,\n",
        "    logging_steps=50,\n",
        "    evaluation_strategy=\"steps\",\n",
        "    eval_steps=200,\n",
        "    save_strategy=\"steps\",\n",
        "    save_steps=200,\n",
        "    report_to=\"none\",\n",
        "    resume_from_checkpoint=True,\n",
        ")\n",
        "\n",
        "trainer = Trainer(\n",
        "    model=peft_model,\n",
        "    args=training_args,\n",
        "    train_dataset=train_dataset,\n",
        "    eval_dataset=val_dataset,\n",
        "    tokenizer=tokenizer,\n",
        ")\n",
        "\n",
        "\n",
        "trainer.train()\n",
        "trainer.save_model(MODEL_OUTPUT_DIR)"
      ],
      "metadata": {
        "id": "n6Rhy8RdeE7X"
      },
      "id": "n6Rhy8RdeE7X",
      "execution_count": null,
      "outputs": []
    },
    {
      "cell_type": "code",
      "source": [
        "def format_chat_input(input, tokenizer):\n",
        "    chatml_input = format_chatml(input, None)\n",
        "    formatted_input = tokenizer.apply_chat_template(chatml_input, tokenize=False, add_generation_prompt=True)\n",
        "    return formatted_input"
      ],
      "metadata": {
        "id": "pj51ER1U-xot"
      },
      "id": "pj51ER1U-xot",
      "execution_count": null,
      "outputs": []
    },
    {
      "cell_type": "code",
      "source": [
        "# 使用原有模型进行对话\n",
        "tokenizer = AutoTokenizer.from_pretrained(pretrained_model_name_or_path=MODEL_NAME)\n",
        "if tokenizer.pad_token is None:\n",
        "  tokenizer.pad_token = tokenizer.eos_token\n",
        "original_model = AutoModelForCausalLM.from_pretrained(\n",
        "    MODEL_NAME,\n",
        "    torch_dtype=torch.float16,  # 混合精度\n",
        "    device_map=\"auto\",  # 自动分配到 GPU\n",
        "    cache_dir=MODEL_CACHE_DIR\n",
        ")\n",
        "original_model.eval()\n",
        "pipe = pipeline(\n",
        "    \"text-generation\",\n",
        "    model=original_model,\n",
        "    tokenizer=tokenizer,\n",
        ")\n",
        "\n",
        "print(\"开始对话！输入 'exit' 结束对话。\")\n",
        "while True:\n",
        "    user_input = input(\"你: \")\n",
        "    if user_input.lower() == \"exit\":\n",
        "        print(\"对话结束。\")\n",
        "        break\n",
        "    formatted_input = format_chat_input(user_input, tokenizer)\n",
        "    response = pipe(formatted_input)\n",
        "    print(f\"模型: {response[0]['generated_text']}\")"
      ],
      "metadata": {
        "id": "fzjjlGhBe1WY"
      },
      "id": "fzjjlGhBe1WY",
      "execution_count": null,
      "outputs": []
    },
    {
      "cell_type": "code",
      "source": [
        "\n",
        "tokenizer = AutoTokenizer.from_pretrained(MODEL_OUTPUT_DIR)\n",
        "if tokenizer.pad_token is None:\n",
        "  tokenizer.pad_token = tokenizer.eos_token\n",
        "\n",
        "original_model = AutoModelForCausalLM.from_pretrained(\n",
        "    MODEL_NAME,\n",
        "    torch_dtype=torch.float16,\n",
        "    device_map=\"auto\",\n",
        "    cache_dir=MODEL_CACHE_DIR\n",
        ")\n",
        "\n",
        "lora_model = PeftModel.from_pretrained(original_model, MODEL_OUTPUT_DIR)\n",
        "\n",
        "merged_model = lora_model.merge_and_unload()\n",
        "\n",
        "merged_model.eval()\n",
        "pipe = pipeline(\n",
        "    \"text-generation\",\n",
        "    model=model,\n",
        "    tokenizer=tokenizer,\n",
        ")\n",
        "\n",
        "print(\"开始对话！输入 'exit' 结束对话。\")\n",
        "while True:\n",
        "    user_input = input(\"你: \")\n",
        "    if user_input.lower() == \"exit\":\n",
        "        print(\"对话结束。\")\n",
        "        break\n",
        "    formatted_input = format_chat_input(user_input, tokenizer)\n",
        "    response = pipe(formatted_input)\n",
        "    print(f\"模型: {response[0]['generated_text']}\")"
      ],
      "metadata": {
        "id": "6RCElTingMY-"
      },
      "id": "6RCElTingMY-",
      "execution_count": null,
      "outputs": []
    }
  ],
  "metadata": {
    "colab": {
      "provenance": [],
      "machine_shape": "hm",
      "gpuType": "A100",
      "include_colab_link": true
    },
    "language_info": {
      "name": "python"
    },
    "kernelspec": {
      "name": "python3",
      "display_name": "Python 3"
    },
    "accelerator": "GPU"
  },
  "nbformat": 4,
  "nbformat_minor": 5
}